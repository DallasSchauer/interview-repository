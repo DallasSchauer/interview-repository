{
 "cells": [
  {
   "cell_type": "markdown",
   "id": "68e560a0-4300-473c-8102-71ecdc93df26",
   "metadata": {},
   "source": [
    "# Technical Interview Studywork"
   ]
  },
  {
   "cell_type": "markdown",
   "id": "9fe9fcb5-f325-40dc-bb95-33072f9dadcb",
   "metadata": {},
   "source": [
    "Hello. I plan on keeping my answers for different technical interview questions here as I work through different material. So far, the material I am considering is :\n",
    "\n",
    "1. Neetcode Course\n",
    "2. Cracking the Coding Interview Book\n",
    "3. Grokking the Coding Interview Course\n",
    "\n",
    "Later, I plan on rearranging to match category of question."
   ]
  },
  {
   "cell_type": "markdown",
   "id": "be949900-26ed-48f8-9c57-b8be5aa03324",
   "metadata": {},
   "source": [
    "## Neetcode"
   ]
  },
  {
   "cell_type": "code",
   "execution_count": 1,
   "id": "e20a104d-6092-4b1e-b9e0-fb4dc963858f",
   "metadata": {
    "scrolled": true
   },
   "outputs": [
    {
     "name": "stdout",
     "output_type": "stream",
     "text": [
      "This\n",
      "Is\n",
      "A\n",
      "Test\n"
     ]
    }
   ],
   "source": [
    "test = [\"This\", \"Is\", \"A\", \"Test\"]\n",
    "\n",
    "for t in test:\n",
    "    print(t)"
   ]
  },
  {
   "cell_type": "code",
   "execution_count": null,
   "id": "e358226a-4e22-4bf9-8ffd-d7f25749b78d",
   "metadata": {},
   "outputs": [],
   "source": []
  },
  {
   "cell_type": "markdown",
   "id": "75e8f4dc-9eb6-4852-b655-506f4075ccc9",
   "metadata": {},
   "source": [
    "## Cracking the Coding Interview"
   ]
  },
  {
   "cell_type": "markdown",
   "id": "0b8556e7-ab4b-4376-9d72-2ab14e7bf7d7",
   "metadata": {},
   "source": [
    "## Grokking the Coding Interview"
   ]
  }
 ],
 "metadata": {
  "kernelspec": {
   "display_name": "Python 3 (ipykernel)",
   "language": "python",
   "name": "python3"
  },
  "language_info": {
   "codemirror_mode": {
    "name": "ipython",
    "version": 3
   },
   "file_extension": ".py",
   "mimetype": "text/x-python",
   "name": "python",
   "nbconvert_exporter": "python",
   "pygments_lexer": "ipython3",
   "version": "3.10.2"
  }
 },
 "nbformat": 4,
 "nbformat_minor": 5
}
